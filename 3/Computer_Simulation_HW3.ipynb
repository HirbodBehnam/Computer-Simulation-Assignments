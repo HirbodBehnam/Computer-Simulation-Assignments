{
 "cells": [
  {
   "cell_type": "markdown",
   "metadata": {
    "id": "Z8CWp1AKAQzw"
   },
   "source": [
    "# Explanation\n",
    "In this question, you will be implementing several Random Number Generators (RNGs) and testing their effectiveness through a series of statistical tests."
   ]
  },
  {
   "cell_type": "markdown",
   "metadata": {
    "id": "Vx078njwCzQZ"
   },
   "source": [
    "## Theory Question:\n",
    "What is a **Pseudorandom Number Generator(PRNG)**? Compare it to **RNGs**. PRNGs are algorithms to create random numbers which are not truly random, but they have some properties of them. They usually relay on a variable called \"seed\" which is the starting point of random number generation. With seed, everyone will have the same sequence of random numbers.\n",
    "\n",
    "On the other hand RNGs are true random number generators. For example the site [random.org](https://random.org) states that their random source is atmospheric noise. Overally, our computer cannot create truly random numbers and they are deterministic."
   ]
  },
  {
   "cell_type": "markdown",
   "metadata": {
    "id": "DNTnCjldAhwW"
   },
   "source": [
    "## Imports"
   ]
  },
  {
   "cell_type": "code",
   "execution_count": 38,
   "metadata": {
    "id": "f1Nz5q4MOoge"
   },
   "outputs": [],
   "source": [
    "import numpy as np\n",
    "import matplotlib.pyplot as plt\n",
    "import scipy.stats as stats\n",
    "import random"
   ]
  },
  {
   "cell_type": "markdown",
   "metadata": {
    "id": "QukowTXPDTNd"
   },
   "source": [
    "# (P)Random-Number Generator Implementation"
   ]
  },
  {
   "cell_type": "markdown",
   "metadata": {
    "id": "9UT5u2s9AmKl"
   },
   "source": [
    "## Linear Congruential Generator (LCG):\n",
    "LCG is a type of RNG that produces a sequence of random numbers based on a linear function. To implement LCG, you will need to follow these steps:\n",
    "\n",
    "*   Set a seed value.\n",
    "*   Choose appropriate values for the multiplier (a), increment (c), and modulus (m).\n",
    "*   Apply the LCG formula to generate a sequence of random numbers."
   ]
  },
  {
   "cell_type": "code",
   "execution_count": 39,
   "metadata": {
    "id": "hrAsMrIEPqbh"
   },
   "outputs": [],
   "source": [
    "def lcg(seed: int, a: int, c: int, m: int, n: int):\n",
    "  numbers = np.zeros(n)\n",
    "  numbers[0] = seed % m\n",
    "  for i in range(1, n):\n",
    "    numbers[i] = (a * numbers[i - 1] + c) % m\n",
    "  return numbers"
   ]
  },
  {
   "cell_type": "markdown",
   "metadata": {
    "id": "3r4p_hP9BOu-"
   },
   "source": [
    "## Combined LCG:\n",
    "\n",
    "Combined LCG is an improved version of LCG that combines the outputs of two or more LCGs to produce a better sequence of random numbers. To implement CLCG, you will need to follow this algorithm:\n",
    "\n",
    "*   Initialize two or more LCGs with different seed values.\n",
    "*   Generate random numbers using each LCG.\n",
    "*   Combine the random numbers using a mathematical function.\n",
    "    \n",
    "    \n",
    "    "
   ]
  },
  {
   "cell_type": "code",
   "execution_count": 40,
   "metadata": {
    "id": "ML5UAT_WPsg6"
   },
   "outputs": [],
   "source": [
    "def combined_lcg(seed1: int, seed2: int, a1: int, c1: int, m1: int, a2: int, c2: int, m2: int, n: int):\n",
    "    lcg1 = lcg(seed1, a1, c1, m1, n)\n",
    "    lcg2 = lcg(seed2, a2, c2, m2, n)\n",
    "    return (lcg1 - lcg2) % (m1 - 1)"
   ]
  },
  {
   "cell_type": "markdown",
   "metadata": {
    "id": "yGI0XUyqBwHa"
   },
   "source": [
    "## Truncated LCG:\n",
    "Truncated LCG is another variation of LCG that generates better random numbers by truncating the least significant bits of each iteration. To implement Truncated LCG, you will need to:\n",
    "\n",
    "*   Initialize LCG with an appropriate seed value.\n",
    "*   Choose appropriate values for the multiplier (a), increment (c), and modulus (m).\n",
    "*   Set a lower bound and an upper bound for the number of bits to be stored in each iteration.\n",
    "*   Apply the Truncated LCG formula to generate a sequence of random numbers.\n",
    "\n",
    "\n",
    "\n",
    "\n"
   ]
  },
  {
   "cell_type": "code",
   "execution_count": 53,
   "metadata": {
    "id": "P8-ZIXn9PzDH"
   },
   "outputs": [],
   "source": [
    "def tlcg(seed: int, a: int, c: int, m: int, n: int, l=5, h=20):\n",
    "    \n",
    "    # Initialize variables\n",
    "    x = seed % m  # current value of the generator\n",
    "    result = []   # list to store generated numbers\n",
    "    \n",
    "    # Generate pseudo-random numbers using TLCG algorithm\n",
    "    for i in range(n):\n",
    "        x = (a * x + c) % m  # generate next number\n",
    "        \n",
    "        # Truncate bits and store only bits between l and h\n",
    "        bits = (int(2**h-2**l) & x) >> l\n",
    "        \n",
    "        # Normalize the truncated number and append to result list\n",
    "        result.append(bits / (2**(h-l)))\n",
    "        \n",
    "    return np.array(result)"
   ]
  },
  {
   "cell_type": "markdown",
   "metadata": {
    "id": "Feh9TdjeCi6H"
   },
   "source": [
    "## Python Random:\n",
    "Python has a built-in random function that uses the **Mersenne Twister** algorithm to generate random numbers. You can simply use this function to generate a sequence of random numbers."
   ]
  },
  {
   "cell_type": "code",
   "execution_count": 42,
   "metadata": {
    "id": "47LHJTBzCti_"
   },
   "outputs": [],
   "source": [
    "import random\n",
    "\n",
    "def random_array(n: int):\n",
    "    return np.array([random.random() for _ in range(n)])"
   ]
  },
  {
   "cell_type": "code",
   "execution_count": 56,
   "metadata": {
    "id": "ps8D54gZFXyH"
   },
   "outputs": [],
   "source": [
    "n = 10000\n",
    "seed1, seed2 = 123, 456\n",
    "a1, c1, m1 = 16807, 0, 2**31 - 1\n",
    "a2, c2, m2 = 48271, 0, 2**31 - 1\n",
    "p = 1000\n",
    "\n",
    "lcg_numbers = lcg(seed1, a1, c1, m1, n) / m1\n",
    "truncated_lcg_numbers = tlcg(seed1, a1, c1, m1, n)\n",
    "combined_lcg_numbers = combined_lcg(seed1, seed2, a1, c1, m1, a2, c2, m2, n) / m1\n",
    "python_random_numbers = random_array(n)"
   ]
  },
  {
   "cell_type": "markdown",
   "metadata": {
    "id": "3L-N2GHKDo1S"
   },
   "source": [
    "# Test Methods Implementation\n",
    "After implementing the RNGs, you need to test their effectiveness through a series of statistical tests:"
   ]
  },
  {
   "cell_type": "markdown",
   "metadata": {
    "id": "Wwn822OOD96-"
   },
   "source": [
    "## Kolmogorov-Smirnov test:\n",
    "This test checks whether the distribution of the generated random numbers follows a particular distribution."
   ]
  },
  {
   "cell_type": "code",
   "execution_count": 44,
   "metadata": {
    "id": "SpRZrwqSD9Gt"
   },
   "outputs": [],
   "source": [
    "def ks_test(numbers):\n",
    "    #Hint: You may use: stats.kstest()\n",
    "    return stats.kstest(numbers, stats.uniform.cdf)"
   ]
  },
  {
   "cell_type": "markdown",
   "metadata": {
    "id": "PpxqN29dElm5"
   },
   "source": [
    "## Chi-Square test: \n",
    "This test checks whether the distribution of the generated random numbers is statistically independent."
   ]
  },
  {
   "cell_type": "code",
   "execution_count": 45,
   "metadata": {
    "id": "HmC_rUsfEbtj"
   },
   "outputs": [],
   "source": [
    "def chi_square_test(numbers, num_bins):\n",
    "    freq, _, _ = plt.hist(numbers, bins=num_bins)\n",
    "    plt.clf()\n",
    "    expected_freq = np.full(num_bins, len(numbers) / num_bins)\n",
    "    return stats.chisquare(freq, expected_freq)"
   ]
  },
  {
   "cell_type": "markdown",
   "metadata": {
    "id": "lQ3G5D0JEwxL"
   },
   "source": [
    "## Auto-correlation test:\n",
    "This test checks whether there is a correlation between generated numbers and their lagged versions."
   ]
  },
  {
   "cell_type": "code",
   "execution_count": 46,
   "metadata": {
    "id": "kAIhJcNoE0Q4"
   },
   "outputs": [],
   "source": [
    "def autocorrelation_test(numbers, lag):\n",
    "    x = numbers[:-lag]\n",
    "    y = numbers[lag:]\n",
    "    return np.corrcoef(x, y)[0, 1]"
   ]
  },
  {
   "cell_type": "markdown",
   "metadata": {
    "id": "X-qkpp5UFB2X"
   },
   "source": [
    "You can introduce another test, such as the Runs test, to test for randomness and implement it."
   ]
  },
  {
   "cell_type": "code",
   "execution_count": 47,
   "metadata": {
    "id": "A5SCoDbcFEPa"
   },
   "outputs": [],
   "source": [
    "num_bins = 100\n",
    "lag = 1"
   ]
  },
  {
   "cell_type": "markdown",
   "metadata": {
    "id": "diQ6nYkCF2Ha"
   },
   "source": [
    "# Show Results"
   ]
  },
  {
   "cell_type": "code",
   "execution_count": 58,
   "metadata": {
    "id": "z85cUBuzFMei"
   },
   "outputs": [
    {
     "name": "stdout",
     "output_type": "stream",
     "text": [
      "LCG:\n",
      "  Kolmogorov-Smirnov test: p-value = 0.159037\n",
      "  Chi-square test: p-value = 0.383123\n",
      "  Autocorrelation test: 0.006946\n",
      "\n",
      "Truncated LCG:\n",
      "  Kolmogorov-Smirnov test: p-value = 0.880156\n",
      "  Chi-square test: p-value = 0.815808\n",
      "  Autocorrelation test: -0.002832\n",
      "\n",
      "Combined LCG:\n",
      "  Kolmogorov-Smirnov test: p-value = 0.407960\n",
      "  Chi-square test: p-value = 0.493576\n",
      "  Autocorrelation test: -0.003450\n",
      "\n",
      "Python Random:\n",
      "  Kolmogorov-Smirnov test: p-value = 0.622368\n",
      "  Chi-square test: p-value = 0.296902\n",
      "  Autocorrelation test: 0.023632\n",
      "\n"
     ]
    },
    {
     "data": {
      "text/plain": [
       "<Figure size 640x480 with 0 Axes>"
      ]
     },
     "metadata": {},
     "output_type": "display_data"
    }
   ],
   "source": [
    "def print_results(title, ks, chi, auto):\n",
    "    print(f\"{title}:\")\n",
    "    print(f\"  Kolmogorov-Smirnov test: p-value = {ks.pvalue:.6f}\")\n",
    "    print(f\"  Chi-square test: p-value = {chi.pvalue:.6f}\")\n",
    "    print(f\"  Autocorrelation test: {auto:.6f}\")\n",
    "    print()\n",
    "\n",
    "print_results(\"LCG\", ks_test(lcg_numbers), chi_square_test(lcg_numbers, num_bins), autocorrelation_test(lcg_numbers, lag))\n",
    "print_results(\"Truncated LCG\", ks_test(truncated_lcg_numbers), chi_square_test(truncated_lcg_numbers, num_bins), autocorrelation_test(truncated_lcg_numbers, lag))\n",
    "print_results(\"Combined LCG\", ks_test(combined_lcg_numbers), chi_square_test(combined_lcg_numbers, num_bins), autocorrelation_test(combined_lcg_numbers, lag))\n",
    "print_results(\"Python Random\", ks_test(python_random_numbers), chi_square_test(python_random_numbers, num_bins), autocorrelation_test(python_random_numbers, lag))"
   ]
  },
  {
   "cell_type": "code",
   "execution_count": 57,
   "metadata": {
    "id": "oXO9r_M4HHMC"
   },
   "outputs": [
    {
     "data": {
      "image/png": "[encoded data removed]",
      "text/plain": [
       "<Figure size 1500x500 with 4 Axes>"
      ]
     },
     "metadata": {},
     "output_type": "display_data"
    }
   ],
   "source": [
    "plt.figure(figsize=(15, 5))\n",
    "\n",
    "plt.subplot(141)\n",
    "plt.hist(lcg_numbers, bins=num_bins, alpha=0.75, color='blue', edgecolor='black')\n",
    "plt.title(\"LCG Histogram\")\n",
    "\n",
    "plt.subplot(142)\n",
    "plt.hist(truncated_lcg_numbers, bins=num_bins, alpha=0.75, color='blue', edgecolor='black')\n",
    "plt.title(\"Truncated LCG Histogram\")\n",
    "\n",
    "plt.subplot(143)\n",
    "plt.hist(combined_lcg_numbers, bins=num_bins, alpha=0.75, color='blue', edgecolor='black')\n",
    "plt.title(\"Combined LCG Histogram\")\n",
    "\n",
    "plt.subplot(144)\n",
    "plt.hist(python_random_numbers, bins=num_bins, alpha=0.75, color='blue', edgecolor='black')\n",
    "plt.title(\"Python Random Histogram\")\n",
    "\n",
    "plt.show()"
   ]
  }
 ],
 "metadata": {
  "colab": {
   "provenance": []
  },
  "kernelspec": {
   "display_name": "Python 3.11.2 64-bit",
   "language": "python",
   "name": "python3"
  },
  "language_info": {
   "codemirror_mode": {
    "name": "ipython",
    "version": 3
   },
   "file_extension": ".py",
   "mimetype": "text/x-python",
   "name": "python",
   "nbconvert_exporter": "python",
   "pygments_lexer": "ipython3",
   "version": "3.11.2"
  },
  "vscode": {
   "interpreter": {
    "hash": "de5a9b8c93ff7a706bdcd632ca115386538201a0be2d2c452384957fc2bef200"
   }
  }
 },
 "nbformat": 4,
 "nbformat_minor": 1
}
